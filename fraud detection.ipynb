import numpy as np
import sklearn as sk
import pandas as pd
import matplotlib.pyplot as plt
from sklearn.preprocessing import scale
import random

from sklearn import linear_model
from sklearn.model_selection import train_test_split

df = pd.read_csv('creditcard.csv', low_memory = False)
df = df.sample(frac=1).reset_index(drop=True)
df.head()

fraud = df.loc[df['Class'] == 1]
non_frauds = df.loc[df['Class'] == 0]

print(len(fraud))
print(len(non_frauds))

ax = fraud.plot.scatter(x='Amount',y='Class',color='Orange',label='Fraud')
non_frauds.plot.scatter(x='Amount', y='Class', color='Blue', label='Normal',ax=ax)
plt.show()

x = df.iloc[:,:-1]
y = df['Class']

X_train, X_test, Y_train, Y_test = train_test_split(x,y,test_size=0.2)

logistic = linear_model.LogisticRegression(C=1e5)
logistic.fit(X_train, Y_train)
print('Score:', logistic.score(X_test, Y_test))